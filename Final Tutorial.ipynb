{
 "cells": [
  {
   "cell_type": "markdown",
   "id": "8cab3a66-f151-47a9-b2b7-6a1d9b894e0d",
   "metadata": {},
   "source": [
    "#<center>Finding the best predictor of a win in League of Legends</center>\n",
    "<center>By Kevin Yang</center>"
   ]
  },
  {
   "cell_type": "markdown",
   "id": "fbcc66a7-1d8c-4741-9fdb-1c75a2ed88da",
   "metadata": {},
   "source": [
    "<center><img src=\"https://s3-eu-central-1.amazonaws.com/www-staging.esports.com/WP%20Media%20Folder%20-%20esports-com//var/app/current/web/app/uploads/2021/02/Riot-Games-League-of-legends-beginners-guide.jpg\"/></center>"
   ]
  }
 ],
 "metadata": {
  "kernelspec": {
   "display_name": "Python 3 (ipykernel)",
   "language": "python",
   "name": "python3"
  },
  "language_info": {
   "codemirror_mode": {
    "name": "ipython",
    "version": 3
   },
   "file_extension": ".py",
   "mimetype": "text/x-python",
   "name": "python",
   "nbconvert_exporter": "python",
   "pygments_lexer": "ipython3",
   "version": "3.9.7"
  }
 },
 "nbformat": 4,
 "nbformat_minor": 5
}
